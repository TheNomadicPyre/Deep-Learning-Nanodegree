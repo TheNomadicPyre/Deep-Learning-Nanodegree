{
 "cells": [
  {
   "cell_type": "markdown",
   "metadata": {
    "collapsed": true
   },
   "source": [
    "# Image Classification\n",
    "In this project, you'll classify images from the [CIFAR-10 dataset](https://www.cs.toronto.edu/~kriz/cifar.html).  The dataset consists of airplanes, dogs, cats, and other objects. You'll preprocess the images, then train a convolutional neural network on all the samples. The images need to be normalized and the labels need to be one-hot encoded.  You'll get to apply what you learned and build a convolutional, max pooling, dropout, and fully connected layers.  At the end, you'll get to see your neural network's predictions on the sample images.\n",
    "## Get the Data\n",
    "Run the following cell to download the [CIFAR-10 dataset for python](https://www.cs.toronto.edu/~kriz/cifar-10-python.tar.gz)."
   ]
  },
  {
   "cell_type": "code",
   "execution_count": 23,
   "metadata": {},
   "outputs": [
    {
     "name": "stdout",
     "output_type": "stream",
     "text": [
      "All files found!\n"
     ]
    }
   ],
   "source": [
    "\"\"\"\n",
    "DON'T MODIFY ANYTHING IN THIS CELL THAT IS BELOW THIS LINE\n",
    "\"\"\"\n",
    "from urllib.request import urlretrieve\n",
    "from os.path import isfile, isdir\n",
    "from tqdm import tqdm\n",
    "import problem_unittests as tests\n",
    "import tarfile\n",
    "\n",
    "cifar10_dataset_folder_path = 'cifar-10-batches-py'\n",
    "\n",
    "# Use Floyd's cifar-10 dataset if present\n",
    "floyd_cifar10_location = '/input/cifar-10/python.tar.gz'\n",
    "if isfile(floyd_cifar10_location):\n",
    "    tar_gz_path = floyd_cifar10_location\n",
    "else:\n",
    "    tar_gz_path = 'cifar-10-python.tar.gz'\n",
    "\n",
    "class DLProgress(tqdm):\n",
    "    last_block = 0\n",
    "\n",
    "    def hook(self, block_num=1, block_size=1, total_size=None):\n",
    "        self.total = total_size\n",
    "        self.update((block_num - self.last_block) * block_size)\n",
    "        self.last_block = block_num\n",
    "\n",
    "if not isfile(tar_gz_path):\n",
    "    with DLProgress(unit='B', unit_scale=True, miniters=1, desc='CIFAR-10 Dataset') as pbar:\n",
    "        urlretrieve(\n",
    "            'https://www.cs.toronto.edu/~kriz/cifar-10-python.tar.gz',\n",
    "            tar_gz_path,\n",
    "            pbar.hook)\n",
    "\n",
    "if not isdir(cifar10_dataset_folder_path):\n",
    "    with tarfile.open(tar_gz_path) as tar:\n",
    "        tar.extractall()\n",
    "        tar.close()\n",
    "\n",
    "\n",
    "tests.test_folder_path(cifar10_dataset_folder_path)"
   ]
  },
  {
   "cell_type": "markdown",
   "metadata": {},
   "source": [
    "## Explore the Data\n",
    "The dataset is broken into batches to prevent your machine from running out of memory.  The CIFAR-10 dataset consists of 5 batches, named `data_batch_1`, `data_batch_2`, etc.. Each batch contains the labels and images that are one of the following:\n",
    "* airplane\n",
    "* automobile\n",
    "* bird\n",
    "* cat\n",
    "* deer\n",
    "* dog\n",
    "* frog\n",
    "* horse\n",
    "* ship\n",
    "* truck\n",
    "\n",
    "Understanding a dataset is part of making predictions on the data.  Play around with the code cell below by changing the `batch_id` and `sample_id`. The `batch_id` is the id for a batch (1-5). The `sample_id` is the id for a image and label pair in the batch.\n",
    "\n",
    "Ask yourself \"What are all possible labels?\", \"What is the range of values for the image data?\", \"Are the labels in order or random?\".  Answers to questions like these will help you preprocess the data and end up with better predictions."
   ]
  },
  {
   "cell_type": "code",
   "execution_count": 24,
   "metadata": {},
   "outputs": [
    {
     "name": "stdout",
     "output_type": "stream",
     "text": [
      "\n",
      "Stats of batch 1:\n",
      "Samples: 10000\n",
      "Label Counts: {0: 1005, 1: 974, 2: 1032, 3: 1016, 4: 999, 5: 937, 6: 1030, 7: 1001, 8: 1025, 9: 981}\n",
      "First 20 Labels: [6, 9, 9, 4, 1, 1, 2, 7, 8, 3, 4, 7, 7, 2, 9, 9, 9, 3, 2, 6]\n",
      "\n",
      "Example of Image 5:\n",
      "Image - Min Value: 0 Max Value: 252\n",
      "Image - Shape: (32, 32, 3)\n",
      "Label - Label Id: 1 Name: automobile\n"
     ]
    },
    {
     "data": {
      "image/png": "[encoded data removed]",
      "text/plain": [
       "<matplotlib.figure.Figure at 0x7fc175de1fd0>"
      ]
     },
     "metadata": {
      "image/png": {
       "height": 250,
       "width": 253
      }
     },
     "output_type": "display_data"
    }
   ],
   "source": [
    "%matplotlib inline\n",
    "%config InlineBackend.figure_format = 'retina'\n",
    "\n",
    "import helper\n",
    "import numpy as np\n",
    "\n",
    "# Explore the dataset\n",
    "batch_id = 1\n",
    "sample_id = 5\n",
    "helper.display_stats(cifar10_dataset_folder_path, batch_id, sample_id)"
   ]
  },
  {
   "cell_type": "markdown",
   "metadata": {},
   "source": [
    "## Implement Preprocess Functions\n",
    "### Normalize\n",
    "In the cell below, implement the `normalize` function to take in image data, `x`, and return it as a normalized Numpy array. The values should be in the range of 0 to 1, inclusive.  The return object should be the same shape as `x`."
   ]
  },
  {
   "cell_type": "code",
   "execution_count": 25,
   "metadata": {},
   "outputs": [
    {
     "name": "stdout",
     "output_type": "stream",
     "text": [
      "Tests Passed\n"
     ]
    }
   ],
   "source": [
    "def normalize(x):\n",
    "    \"\"\"\n",
    "    Normalize a list of sample image data in the range of 0 to 1\n",
    "    : x: List of image data.  The image shape is (32, 32, 3)\n",
    "    : return: Numpy array of normalize data\n",
    "    \"\"\"\n",
    "    # TODO: Implement Function\n",
    "    normalized = np.array(x)/(255.0)\n",
    "    return normalized\n",
    "\n",
    "\n",
    "\"\"\"\n",
    "DON'T MODIFY ANYTHING IN THIS CELL THAT IS BELOW THIS LINE\n",
    "\"\"\"\n",
    "tests.test_normalize(normalize)"
   ]
  },
  {
   "cell_type": "markdown",
   "metadata": {},
   "source": [
    "### One-hot encode\n",
    "Just like the previous code cell, you'll be implementing a function for preprocessing.  This time, you'll implement the `one_hot_encode` function. The input, `x`, are a list of labels.  Implement the function to return the list of labels as One-Hot encoded Numpy array.  The possible values for labels are 0 to 9. The one-hot encoding function should return the same encoding for each value between each call to `one_hot_encode`.  Make sure to save the map of encodings outside the function.\n",
    "\n",
    "Hint: Don't reinvent the wheel."
   ]
  },
  {
   "cell_type": "code",
   "execution_count": 26,
   "metadata": {},
   "outputs": [
    {
     "name": "stdout",
     "output_type": "stream",
     "text": [
      "Tests Passed\n"
     ]
    }
   ],
   "source": [
    "def one_hot_encode(x):\n",
    "    \"\"\"\n",
    "    One hot encode a list of sample labels. Return a one-hot encoded vector for each label.\n",
    "    : x: List of sample Labels\n",
    "    : return: Numpy array of one-hot encoded labels\n",
    "    \"\"\"\n",
    "    one_hot_encode = np.zeros((len(x), 10))\n",
    "    for i in range(len(x)):\n",
    "        one_hot_encode[i][x[i]] = 1\n",
    "    return one_hot_encode\n",
    "\n",
    "\n",
    "\"\"\"\n",
    "DON'T MODIFY ANYTHING IN THIS CELL THAT IS BELOW THIS LINE\n",
    "\"\"\"\n",
    "tests.test_one_hot_encode(one_hot_encode)"
   ]
  },
  {
   "cell_type": "markdown",
   "metadata": {},
   "source": [
    "### Randomize Data\n",
    "As you saw from exploring the data above, the order of the samples are randomized.  It doesn't hurt to randomize it again, but you don't need to for this dataset."
   ]
  },
  {
   "cell_type": "markdown",
   "metadata": {},
   "source": [
    "## Preprocess all the data and save it\n",
    "Running the code cell below will preprocess all the CIFAR-10 data and save it to file. The code below also uses 10% of the training data for validation."
   ]
  },
  {
   "cell_type": "code",
   "execution_count": 27,
   "metadata": {
    "collapsed": true
   },
   "outputs": [],
   "source": [
    "\"\"\"\n",
    "DON'T MODIFY ANYTHING IN THIS CELL\n",
    "\"\"\"\n",
    "# Preprocess Training, Validation, and Testing Data\n",
    "helper.preprocess_and_save_data(cifar10_dataset_folder_path, normalize, one_hot_encode)"
   ]
  },
  {
   "cell_type": "markdown",
   "metadata": {},
   "source": [
    "# Check Point\n",
    "This is your first checkpoint.  If you ever decide to come back to this notebook or have to restart the notebook, you can start from here.  The preprocessed data has been saved to disk."
   ]
  },
  {
   "cell_type": "code",
   "execution_count": 28,
   "metadata": {
    "collapsed": true
   },
   "outputs": [],
   "source": [
    "\"\"\"\n",
    "DON'T MODIFY ANYTHING IN THIS CELL\n",
    "\"\"\"\n",
    "import pickle\n",
    "import problem_unittests as tests\n",
    "import helper\n",
    "\n",
    "# Load the Preprocessed Validation data\n",
    "valid_features, valid_labels = pickle.load(open('preprocess_validation.p', mode='rb'))"
   ]
  },
  {
   "cell_type": "markdown",
   "metadata": {},
   "source": [
    "## Build the network\n",
    "For the neural network, you'll build each layer into a function.  Most of the code you've seen has been outside of functions. To test your code more thoroughly, we require that you put each layer in a function.  This allows us to give you better feedback and test for simple mistakes using our unittests before you submit your project.\n",
    "\n",
    ">**Note:** If you're finding it hard to dedicate enough time for this course each week, we've provided a small shortcut to this part of the project. In the next couple of problems, you'll have the option to use classes from the [TensorFlow Layers](https://www.tensorflow.org/api_docs/python/tf/layers) or [TensorFlow Layers (contrib)](https://www.tensorflow.org/api_guides/python/contrib.layers) packages to build each layer, except the layers you build in the \"Convolutional and Max Pooling Layer\" section.  TF Layers is similar to Keras's and TFLearn's abstraction to layers, so it's easy to pickup.\n",
    "\n",
    ">However, if you would like to get the most out of this course, try to solve all the problems _without_ using anything from the TF Layers packages. You **can** still use classes from other packages that happen to have the same name as ones you find in TF Layers! For example, instead of using the TF Layers version of the `conv2d` class, [tf.layers.conv2d](https://www.tensorflow.org/api_docs/python/tf/layers/conv2d), you would want to use the TF Neural Network version of `conv2d`, [tf.nn.conv2d](https://www.tensorflow.org/api_docs/python/tf/nn/conv2d). \n",
    "\n",
    "Let's begin!\n",
    "\n",
    "### Input\n",
    "The neural network needs to read the image data, one-hot encoded labels, and dropout keep probability. Implement the following functions\n",
    "* Implement `neural_net_image_input`\n",
    " * Return a [TF Placeholder](https://www.tensorflow.org/api_docs/python/tf/placeholder)\n",
    " * Set the shape using `image_shape` with batch size set to `None`.\n",
    " * Name the TensorFlow placeholder \"x\" using the TensorFlow `name` parameter in the [TF Placeholder](https://www.tensorflow.org/api_docs/python/tf/placeholder).\n",
    "* Implement `neural_net_label_input`\n",
    " * Return a [TF Placeholder](https://www.tensorflow.org/api_docs/python/tf/placeholder)\n",
    " * Set the shape using `n_classes` with batch size set to `None`.\n",
    " * Name the TensorFlow placeholder \"y\" using the TensorFlow `name` parameter in the [TF Placeholder](https://www.tensorflow.org/api_docs/python/tf/placeholder).\n",
    "* Implement `neural_net_keep_prob_input`\n",
    " * Return a [TF Placeholder](https://www.tensorflow.org/api_docs/python/tf/placeholder) for dropout keep probability.\n",
    " * Name the TensorFlow placeholder \"keep_prob\" using the TensorFlow `name` parameter in the [TF Placeholder](https://www.tensorflow.org/api_docs/python/tf/placeholder).\n",
    "\n",
    "These names will be used at the end of the project to load your saved model.\n",
    "\n",
    "Note: `None` for shapes in TensorFlow allow for a dynamic size."
   ]
  },
  {
   "cell_type": "code",
   "execution_count": 34,
   "metadata": {},
   "outputs": [
    {
     "name": "stdout",
     "output_type": "stream",
     "text": [
      "Image Input Tests Passed.\n",
      "Label Input Tests Passed.\n",
      "Keep Prob Tests Passed.\n"
     ]
    }
   ],
   "source": [
    "import tensorflow as tf\n",
    "\n",
    "def neural_net_image_input(image_shape):\n",
    "    \"\"\"\n",
    "    Return a Tensor for a bach of image input\n",
    "    : image_shape: Shape of the images\n",
    "    : return: Tensor for image input.\n",
    "    \"\"\"\n",
    "    # TODO: Implement Function\n",
    "    h,w,d = image_shape[0], image_shape[1], image_shape[2]\n",
    "    return (tf.placeholder(tf.float32, shape = [None, h,w,d], name='x'))\n",
    "\n",
    "def neural_net_label_input(n_classes):\n",
    "    \"\"\"\n",
    "    Return a Tensor for a batch of label input\n",
    "    : n_classes: Number of classes\n",
    "    : return: Tensor for label input.\n",
    "    \"\"\"\n",
    "    # TODO: Implement Function\n",
    "    return (tf.placeholder(tf.float32, shape = [None, n_classes], name='y'))\n",
    "    \n",
    "def neural_net_keep_prob_input():\n",
    "    \"\"\"\n",
    "    Return a Tensor for keep probability\n",
    "    : return: Tensor for keep probability.\n",
    "    \"\"\"\n",
    "    # TODO: Implement Function\n",
    "    return (tf.placeholder(tf.float32, name ='keep_prob')) \n",
    "\n",
    "\n",
    "\"\"\"\n",
    "DON'T MODIFY ANYTHING IN THIS CELL THAT IS BELOW THIS LINE\n",
    "\"\"\"\n",
    "tf.reset_default_graph()\n",
    "tests.test_nn_image_inputs(neural_net_image_input)\n",
    "tests.test_nn_label_inputs(neural_net_label_input)\n",
    "tests.test_nn_keep_prob_inputs(neural_net_keep_prob_input)"
   ]
  },
  {
   "cell_type": "markdown",
   "metadata": {},
   "source": [
    "### Convolution and Max Pooling Layer\n",
    "Convolution layers have a lot of success with images. For this code cell, you should implement the function `conv2d_maxpool` to apply convolution then max pooling:\n",
    "* Create the weight and bias using `conv_ksize`, `conv_num_outputs` and the shape of `x_tensor`.\n",
    "* Apply a convolution to `x_tensor` using weight and `conv_strides`.\n",
    "* We recommend you use same padding, but you're welcome to use any padding.\n",
    "* Add bias\n",
    "* Add a nonlinear activation to the convolution.\n",
    "* Apply Max Pooling using `pool_ksize` and `pool_strides`.\n",
    "* We recommend you use same padding, but you're welcome to use any padding.\n",
    "\n",
    "**Note:** You **can't** use [TensorFlow Layers](https://www.tensorflow.org/api_docs/python/tf/layers) or [TensorFlow Layers (contrib)](https://www.tensorflow.org/api_guides/python/contrib.layers) for **this** layer, but you can still use TensorFlow's [Neural Network](https://www.tensorflow.org/api_docs/python/tf/nn) package. You may still use the shortcut option for all the **other** layers."
   ]
  },
  {
   "cell_type": "code",
   "execution_count": 59,
   "metadata": {},
   "outputs": [
    {
     "name": "stdout",
     "output_type": "stream",
     "text": [
      "Tests Passed\n"
     ]
    }
   ],
   "source": [
    "def conv2d_maxpool(x_tensor, conv_num_outputs, conv_ksize, conv_strides, pool_ksize, pool_strides):\n",
    "    \"\"\"\n",
    "    Apply convolution then max pooling to x_tensor\n",
    "    :param x_tensor: TensorFlow Tensor\n",
    "    :param conv_num_outputs: Number of outputs for the convolutional layer\n",
    "    :param conv_ksize: kernal size 2-D Tuple for the convolutional layer\n",
    "    :param conv_strides: Stride 2-D Tuple for convolution\n",
    "    :param pool_ksize: kernal size 2-D Tuple for pool\n",
    "    :param pool_strides: Stride 2-D Tuple for pool\n",
    "    :return: A tensor that represents convolution and max pooling of x_tensor\n",
    "    \"\"\"\n",
    "    # TODO: Implement Function\n",
    "    depth = x_tensor.get_shape().as_list()[-1]\n",
    "    \n",
    "#   weight = tf.Variable(tf.truncated_normal([(filter_size_height),(filter_size_width),3, k_output])\n",
    "    \n",
    "    weights = tf.Variable(tf.truncated_normal([conv_ksize[0], conv_ksize[1], depth, conv_num_outputs], stddev=0.01))\n",
    "    \n",
    "    bias = tf.Variable(tf.zeros(conv_num_outputs))\n",
    "    \n",
    "    padding = 'SAME'\n",
    "    strides = [1,conv_strides[0],conv_strides[1],1]\n",
    "\n",
    "    \n",
    "    conv_layer = tf.nn.conv2d(x_tensor, weights, strides, padding)\n",
    "    conv_layer = tf.nn.bias_add(conv_layer, bias) #this shouldn't change anything since the biases are zero\n",
    "    conv_layer = tf.nn.relu(conv_layer)\n",
    "    conv_layer  = tf.nn.max_pool(conv_layer,\n",
    "                                 ksize = [1, pool_ksize[0], pool_ksize[0], 1], \n",
    "                                 strides = [1, pool_strides[0], pool_strides[1], 1],\n",
    "                                 padding = padding)\n",
    "    \n",
    "    return conv_layer \n",
    "    \n",
    "\"\"\"\n",
    "DON'T MODIFY ANYTHING IN THIS CELL THAT IS BELOW THIS LINE\n",
    "\"\"\"\n",
    "tests.test_con_pool(conv2d_maxpool)"
   ]
  },
  {
   "cell_type": "markdown",
   "metadata": {},
   "source": [
    "### Flatten Layer\n",
    "Implement the `flatten` function to change the dimension of `x_tensor` from a 4-D tensor to a 2-D tensor.  The output should be the shape (*Batch Size*, *Flattened Image Size*). Shortcut option: you can use classes from the [TensorFlow Layers](https://www.tensorflow.org/api_docs/python/tf/layers) or [TensorFlow Layers (contrib)](https://www.tensorflow.org/api_guides/python/contrib.layers) packages for this layer. For more of a challenge, only use other TensorFlow packages."
   ]
  },
  {
   "cell_type": "code",
   "execution_count": 45,
   "metadata": {},
   "outputs": [
    {
     "name": "stdout",
     "output_type": "stream",
     "text": [
      "Tests Passed\n"
     ]
    }
   ],
   "source": [
    "def flatten(x_tensor):\n",
    "    \"\"\"\n",
    "    Flatten x_tensor to (Batch Size, Flattened Image Size)\n",
    "    : x_tensor: A tensor of size (Batch Size, ...), where ... are the image dimensions.\n",
    "    : return: A tensor of size (Batch Size, Flattened Image Size).\n",
    "    \"\"\"\n",
    "    # TODO: Implement Function\n",
    "    x_shape =x_tensor.get_shape().as_list()\n",
    "    x_dim = np.prod(x_shape[1:])\n",
    "    return tf.reshape(x_tensor, [-1, x_dim])\n",
    "\n",
    "\n",
    "\"\"\"\n",
    "DON'T MODIFY ANYTHING IN THIS CELL THAT IS BELOW THIS LINE\n",
    "\"\"\"\n",
    "tests.test_flatten(flatten)"
   ]
  },
  {
   "cell_type": "markdown",
   "metadata": {},
   "source": [
    "### Fully-Connected Layer\n",
    "Implement the `fully_conn` function to apply a fully connected layer to `x_tensor` with the shape (*Batch Size*, *num_outputs*). Shortcut option: you can use classes from the [TensorFlow Layers](https://www.tensorflow.org/api_docs/python/tf/layers) or [TensorFlow Layers (contrib)](https://www.tensorflow.org/api_guides/python/contrib.layers) packages for this layer. For more of a challenge, only use other TensorFlow packages."
   ]
  },
  {
   "cell_type": "code",
   "execution_count": 48,
   "metadata": {},
   "outputs": [
    {
     "name": "stdout",
     "output_type": "stream",
     "text": [
      "Tests Passed\n"
     ]
    }
   ],
   "source": [
    "def fully_conn(x_tensor, num_outputs):\n",
    "    \"\"\"\n",
    "    Apply a fully connected layer to x_tensor using weight and bias\n",
    "    : x_tensor: A 2-D tensor where the first dimension is batch size.\n",
    "    : num_outputs: The number of output that the new tensor should be.\n",
    "    : return: A 2-D tensor where the second dimension is num_outputs.\n",
    "    \"\"\"\n",
    "    # TODO: Implement Function\n",
    "    x_shape = x_tensor.get_shape().as_list()\n",
    "    weights = tf.Variable(tf.random_normal([x_shape[1], num_outputs], stddev=0.01))\n",
    "    biases = tf.Variable(tf.random_normal([num_outputs]))\n",
    "                         \n",
    "    full_connect = tf.add(tf.matmul(x_tensor, weights), biases)\n",
    "    full_connect = tf.nn.relu(full_connect)            \n",
    "    return full_connect\n",
    "\n",
    "\n",
    "\n",
    "\"\"\"\n",
    "DON'T MODIFY ANYTHING IN THIS CELL THAT IS BELOW THIS LINE\n",
    "\"\"\"\n",
    "tests.test_fully_conn(fully_conn)"
   ]
  },
  {
   "cell_type": "markdown",
   "metadata": {},
   "source": [
    "### Output Layer\n",
    "Implement the `output` function to apply a fully connected layer to `x_tensor` with the shape (*Batch Size*, *num_outputs*). Shortcut option: you can use classes from the [TensorFlow Layers](https://www.tensorflow.org/api_docs/python/tf/layers) or [TensorFlow Layers (contrib)](https://www.tensorflow.org/api_guides/python/contrib.layers) packages for this layer. For more of a challenge, only use other TensorFlow packages.\n",
    "\n",
    "**Note:** Activation, softmax, or cross entropy should **not** be applied to this."
   ]
  },
  {
   "cell_type": "code",
   "execution_count": 69,
   "metadata": {},
   "outputs": [
    {
     "name": "stdout",
     "output_type": "stream",
     "text": [
      "Tests Passed\n"
     ]
    }
   ],
   "source": [
    "def output(x_tensor, num_outputs):\n",
    "    \"\"\"\n",
    "    Apply a output layer to x_tensor using weight and bias\n",
    "    : x_tensor: A 2-D tensor where the first dimension is batch size.\n",
    "    : num_outputs: The number of output that the new tensor should be.\n",
    "    : return: A 2-D tensor where the second dimension is num_outputs.\n",
    "    \"\"\"\n",
    "    # TODO: Implement Function\n",
    "    \n",
    "    x_size = x_tensor.get_shape().as_list()[1]\n",
    "    weights = tf.Variable(tf.truncated_normal([x_size, num_outputs], stddev=0.01))\n",
    "    bias = tf.Variable(tf.zeros(num_outputs))\n",
    "    output = tf.add(tf.matmul(x_tensor, weights), bias)\n",
    "    return output\n",
    "    \n",
    "\"\"\"\n",
    "DON'T MODIFY ANYTHING IN THIS CELL THAT IS BELOW THIS LINE\n",
    "\"\"\"\n",
    "tests.test_output(output)"
   ]
  },
  {
   "cell_type": "markdown",
   "metadata": {},
   "source": [
    "### Create Convolutional Model\n",
    "Implement the function `conv_net` to create a convolutional neural network model. The function takes in a batch of images, `x`, and outputs logits.  Use the layers you created above to create this model:\n",
    "\n",
    "* Apply 1, 2, or 3 Convolution and Max Pool layers\n",
    "* Apply a Flatten Layer\n",
    "* Apply 1, 2, or 3 Fully Connected Layers\n",
    "* Apply an Output Layer\n",
    "* Return the output\n",
    "* Apply [TensorFlow's Dropout](https://www.tensorflow.org/api_docs/python/tf/nn/dropout) to one or more layers in the model using `keep_prob`. "
   ]
  },
  {
   "cell_type": "code",
   "execution_count": 72,
   "metadata": {},
   "outputs": [
    {
     "name": "stdout",
     "output_type": "stream",
     "text": [
      "Neural Network Built!\n"
     ]
    }
   ],
   "source": [
    "def conv_net(x, keep_prob):\n",
    "    \"\"\"\n",
    "    Create a convolutional neural network model\n",
    "    : x: Placeholder tensor that holds image data.\n",
    "    : keep_prob: Placeholder tensor that hold dropout keep probability.\n",
    "    : return: Tensor that represents logits\n",
    "    \"\"\"\n",
    "    # TODO: Apply 1, 2, or 3 Convolution and Max Pool layers\n",
    "    #    Play around with different number of outputs, kernel size and stride\n",
    "    # Function Definition from Above:\n",
    "    conv_outputs_1 = 20\n",
    "    #layer 1\n",
    "    conv_layer_1 = conv2d_maxpool(x,\n",
    "                                  conv_outputs_1,\n",
    "                                  conv_ksize = (4,4),\n",
    "                                  conv_strides = (1,1),\n",
    "                                  pool_ksize = (2,2),\n",
    "                                  pool_strides =(1,1))\n",
    "    #layer 2\n",
    "    conv_outputs_2 = 40\n",
    "    conv_layer_2 = conv2d_maxpool(conv_layer_1,\n",
    "                                  conv_outputs_2,\n",
    "                                  conv_ksize = (4,4),\n",
    "                                  conv_strides = (1,1),\n",
    "                                  pool_ksize = (2,2),\n",
    "                                  pool_strides =(1,1))\n",
    "    \n",
    "\n",
    "    # TODO: Apply a Flatten Layer\n",
    "    # Function Definition from Above:\n",
    "    flatten_layer = flatten(conv_layer_2)\n",
    "    \n",
    "\n",
    "    # TODO: Apply 1, 2, or 3 Fully Connected Layers\n",
    "    #    Play around with different number of outputs\n",
    "    # Function Definition from Above:\n",
    "    #   fully_conn(x_tensor, num_outputs)\n",
    "    \n",
    "    fully_con1 = fully_conn(flatten_layer, 256)\n",
    "    fully_con1 = tf.nn.dropout(fully_con1, keep_prob)\n",
    "    fully_con2 = fully_conn(flatten_layer, 128)\n",
    "    fully_con2 = tf.nn.dropout(fully_con2, keep_prob)\n",
    "    \n",
    "    # TODO: Apply an Output Layer\n",
    "    #    Set this to the number of classes\n",
    "    # Function Definition from Above:\n",
    "    #   output(x_tensor, num_outputs)\n",
    "    output_layer = output(fully_con2, 10)\n",
    "    \n",
    "    # TODO: return output\n",
    "    return output_layer\n",
    "\n",
    "\n",
    "\"\"\"\n",
    "DON'T MODIFY ANYTHING IN THIS CELL THAT IS BELOW THIS LINE\n",
    "\"\"\"\n",
    "\n",
    "##############################\n",
    "## Build the Neural Network ##\n",
    "##############################\n",
    "\n",
    "# Remove previous weights, bias, inputs, etc..\n",
    "tf.reset_default_graph()\n",
    "\n",
    "# Inputs\n",
    "x = neural_net_image_input((32, 32, 3))\n",
    "y = neural_net_label_input(10)\n",
    "keep_prob = neural_net_keep_prob_input()\n",
    "\n",
    "# Model\n",
    "logits = conv_net(x, keep_prob)\n",
    "\n",
    "# Name logits Tensor, so that is can be loaded from disk after training\n",
    "logits = tf.identity(logits, name='logits')\n",
    "\n",
    "# Loss and Optimizer\n",
    "cost = tf.reduce_mean(tf.nn.softmax_cross_entropy_with_logits(logits=logits, labels=y))\n",
    "optimizer = tf.train.AdamOptimizer().minimize(cost)\n",
    "\n",
    "# Accuracy\n",
    "correct_pred = tf.equal(tf.argmax(logits, 1), tf.argmax(y, 1))\n",
    "accuracy = tf.reduce_mean(tf.cast(correct_pred, tf.float32), name='accuracy')\n",
    "\n",
    "tests.test_conv_net(conv_net)"
   ]
  },
  {
   "cell_type": "markdown",
   "metadata": {},
   "source": [
    "## Train the Neural Network\n",
    "### Single Optimization\n",
    "Implement the function `train_neural_network` to do a single optimization.  The optimization should use `optimizer` to optimize in `session` with a `feed_dict` of the following:\n",
    "* `x` for image input\n",
    "* `y` for labels\n",
    "* `keep_prob` for keep probability for dropout\n",
    "\n",
    "This function will be called for each batch, so `tf.global_variables_initializer()` has already been called.\n",
    "\n",
    "Note: Nothing needs to be returned. This function is only optimizing the neural network."
   ]
  },
  {
   "cell_type": "code",
   "execution_count": 73,
   "metadata": {},
   "outputs": [
    {
     "name": "stdout",
     "output_type": "stream",
     "text": [
      "Tests Passed\n"
     ]
    }
   ],
   "source": [
    "def train_neural_network(session, optimizer, keep_probability, feature_batch, label_batch):\n",
    "    \"\"\"\n",
    "    Optimize the session on a batch of images and labels\n",
    "    : session: Current TensorFlow session\n",
    "    : optimizer: TensorFlow optimizer function\n",
    "    : keep_probability: keep probability\n",
    "    : feature_batch: Batch of Numpy image data\n",
    "    : label_batch: Batch of Numpy label data\n",
    "    \"\"\"\n",
    "    # TODO: Implement Function\n",
    "    session.run(optimizer, feed_dict = {\n",
    "        x:feature_batch,\n",
    "        y:label_batch,\n",
    "        keep_prob:keep_probability})\n",
    "\n",
    "\n",
    "\"\"\"\n",
    "DON'T MODIFY ANYTHING IN THIS CELL THAT IS BELOW THIS LINE\n",
    "\"\"\"\n",
    "tests.test_train_nn(train_neural_network)"
   ]
  },
  {
   "cell_type": "markdown",
   "metadata": {},
   "source": [
    "### Show Stats\n",
    "Implement the function `print_stats` to print loss and validation accuracy.  Use the global variables `valid_features` and `valid_labels` to calculate validation accuracy.  Use a keep probability of `1.0` to calculate the loss and validation accuracy."
   ]
  },
  {
   "cell_type": "code",
   "execution_count": 83,
   "metadata": {
    "collapsed": true
   },
   "outputs": [],
   "source": [
    "def print_stats(session, feature_batch, label_batch, cost, accuracy):\n",
    "    \"\"\"\n",
    "    Print information about loss and validation accuracy\n",
    "    : session: Current TensorFlow session\n",
    "    : feature_batch: Batch of Numpy image data\n",
    "    : label_batch: Batch of Numpy label data\n",
    "    : cost: TensorFlow cost function\n",
    "    : accuracy: TensorFlow accuracy function\n",
    "    \"\"\"\n",
    "    # TODO: Implement Function    \n",
    "    loss = session.run(cost, {x: feature_batch, y: label_batch, keep_prob: 1.})\n",
    "    accuracy = session.run(accuracy, {x: valid_features, y: valid_labels, keep_prob: 1.})\n",
    "    print('Loss: {:>0.6f}, Validation Accuracy: {:0.6f}'.format(loss, accuracy))"
   ]
  },
  {
   "cell_type": "markdown",
   "metadata": {},
   "source": [
    "### Hyperparameters\n",
    "Tune the following parameters:\n",
    "* Set `epochs` to the number of iterations until the network stops learning or start overfitting\n",
    "* Set `batch_size` to the highest number that your machine has memory for.  Most people set them to common sizes of memory:\n",
    " * 64\n",
    " * 128\n",
    " * 256\n",
    " * ...\n",
    "* Set `keep_probability` to the probability of keeping a node using dropout"
   ]
  },
  {
   "cell_type": "code",
   "execution_count": 84,
   "metadata": {
    "collapsed": true
   },
   "outputs": [],
   "source": [
    "# TODO: Tune Parameters\n",
    "epochs = 50\n",
    "batch_size = 128\n",
    "keep_probability = 0.5"
   ]
  },
  {
   "cell_type": "markdown",
   "metadata": {},
   "source": [
    "### Train on a Single CIFAR-10 Batch\n",
    "Instead of training the neural network on all the CIFAR-10 batches of data, let's use a single batch. This should save time while you iterate on the model to get a better accuracy.  Once the final validation accuracy is 50% or greater, run the model on all the data in the next section."
   ]
  },
  {
   "cell_type": "code",
   "execution_count": 85,
   "metadata": {},
   "outputs": [
    {
     "name": "stdout",
     "output_type": "stream",
     "text": [
      "Checking the Training on a Single Batch...\n",
      "Epoch  1, CIFAR-10 Batch 1:  Loss: 2.117398, Validation Accuracy: 0.268000\n",
      "Epoch  2, CIFAR-10 Batch 1:  Loss: 1.930915, Validation Accuracy: 0.380400\n",
      "Epoch  3, CIFAR-10 Batch 1:  Loss: 1.798778, Validation Accuracy: 0.396200\n",
      "Epoch  4, CIFAR-10 Batch 1:  Loss: 1.645970, Validation Accuracy: 0.442400\n",
      "Epoch  5, CIFAR-10 Batch 1:  Loss: 1.574103, Validation Accuracy: 0.454800\n",
      "Epoch  6, CIFAR-10 Batch 1:  Loss: 1.459815, Validation Accuracy: 0.465600\n",
      "Epoch  7, CIFAR-10 Batch 1:  Loss: 1.378736, Validation Accuracy: 0.465600\n",
      "Epoch  8, CIFAR-10 Batch 1:  Loss: 1.274138, Validation Accuracy: 0.481200\n",
      "Epoch  9, CIFAR-10 Batch 1:  Loss: 1.208808, Validation Accuracy: 0.477200\n",
      "Epoch 10, CIFAR-10 Batch 1:  Loss: 1.118789, Validation Accuracy: 0.462600\n",
      "Epoch 11, CIFAR-10 Batch 1:  Loss: 1.028612, Validation Accuracy: 0.486600\n",
      "Epoch 12, CIFAR-10 Batch 1:  Loss: 0.959072, Validation Accuracy: 0.500200\n",
      "Epoch 13, CIFAR-10 Batch 1:  Loss: 0.887131, Validation Accuracy: 0.489200\n",
      "Epoch 14, CIFAR-10 Batch 1:  Loss: 0.827316, Validation Accuracy: 0.506600\n",
      "Epoch 15, CIFAR-10 Batch 1:  Loss: 0.767782, Validation Accuracy: 0.509800\n",
      "Epoch 16, CIFAR-10 Batch 1:  Loss: 0.712603, Validation Accuracy: 0.525400\n",
      "Epoch 17, CIFAR-10 Batch 1:  Loss: 0.675833, Validation Accuracy: 0.526400\n",
      "Epoch 18, CIFAR-10 Batch 1:  Loss: 0.680531, Validation Accuracy: 0.527400\n",
      "Epoch 19, CIFAR-10 Batch 1:  Loss: 0.650507, Validation Accuracy: 0.529000\n",
      "Epoch 20, CIFAR-10 Batch 1:  Loss: 0.569980, Validation Accuracy: 0.534800\n",
      "Epoch 21, CIFAR-10 Batch 1:  Loss: 0.525132, Validation Accuracy: 0.531200\n",
      "Epoch 22, CIFAR-10 Batch 1:  Loss: 0.536223, Validation Accuracy: 0.519400\n",
      "Epoch 23, CIFAR-10 Batch 1:  Loss: 0.456492, Validation Accuracy: 0.526600\n",
      "Epoch 24, CIFAR-10 Batch 1:  Loss: 0.413301, Validation Accuracy: 0.528400\n",
      "Epoch 25, CIFAR-10 Batch 1:  Loss: 0.398862, Validation Accuracy: 0.525400\n",
      "Epoch 26, CIFAR-10 Batch 1:  Loss: 0.353585, Validation Accuracy: 0.534600\n",
      "Epoch 27, CIFAR-10 Batch 1:  Loss: 0.323500, Validation Accuracy: 0.525600\n",
      "Epoch 28, CIFAR-10 Batch 1:  Loss: 0.294813, Validation Accuracy: 0.525400\n",
      "Epoch 29, CIFAR-10 Batch 1:  Loss: 0.291241, Validation Accuracy: 0.527000\n",
      "Epoch 30, CIFAR-10 Batch 1:  Loss: 0.290150, Validation Accuracy: 0.525600\n",
      "Epoch 31, CIFAR-10 Batch 1:  Loss: 0.286574, Validation Accuracy: 0.507200\n",
      "Epoch 32, CIFAR-10 Batch 1:  Loss: 0.218572, Validation Accuracy: 0.521000\n",
      "Epoch 33, CIFAR-10 Batch 1:  Loss: 0.242665, Validation Accuracy: 0.519200\n",
      "Epoch 34, CIFAR-10 Batch 1:  Loss: 0.210563, Validation Accuracy: 0.523200\n",
      "Epoch 35, CIFAR-10 Batch 1:  Loss: 0.207586, Validation Accuracy: 0.517800\n",
      "Epoch 36, CIFAR-10 Batch 1:  Loss: 0.218902, Validation Accuracy: 0.503800\n",
      "Epoch 37, CIFAR-10 Batch 1:  Loss: 0.178366, Validation Accuracy: 0.515200\n",
      "Epoch 38, CIFAR-10 Batch 1:  Loss: 0.156397, Validation Accuracy: 0.524200\n",
      "Epoch 39, CIFAR-10 Batch 1:  Loss: 0.106344, Validation Accuracy: 0.527200\n",
      "Epoch 40, CIFAR-10 Batch 1:  Loss: 0.112214, Validation Accuracy: 0.533000\n",
      "Epoch 41, CIFAR-10 Batch 1:  Loss: 0.130679, Validation Accuracy: 0.534400\n",
      "Epoch 42, CIFAR-10 Batch 1:  Loss: 0.123655, Validation Accuracy: 0.527800\n",
      "Epoch 43, CIFAR-10 Batch 1:  Loss: 0.078818, Validation Accuracy: 0.533200\n",
      "Epoch 44, CIFAR-10 Batch 1:  Loss: 0.091918, Validation Accuracy: 0.526200\n",
      "Epoch 45, CIFAR-10 Batch 1:  Loss: 0.078577, Validation Accuracy: 0.522800\n",
      "Epoch 46, CIFAR-10 Batch 1:  Loss: 0.079137, Validation Accuracy: 0.517200\n",
      "Epoch 47, CIFAR-10 Batch 1:  Loss: 0.069437, Validation Accuracy: 0.525200\n",
      "Epoch 48, CIFAR-10 Batch 1:  Loss: 0.055952, Validation Accuracy: 0.534200\n",
      "Epoch 49, CIFAR-10 Batch 1:  Loss: 0.064897, Validation Accuracy: 0.528000\n",
      "Epoch 50, CIFAR-10 Batch 1:  Loss: 0.057844, Validation Accuracy: 0.534400\n"
     ]
    }
   ],
   "source": [
    "\"\"\"\n",
    "DON'T MODIFY ANYTHING IN THIS CELL\n",
    "\"\"\"\n",
    "print('Checking the Training on a Single Batch...')\n",
    "with tf.Session() as sess:\n",
    "    # Initializing the variables\n",
    "    sess.run(tf.global_variables_initializer())\n",
    "    \n",
    "    # Training cycle\n",
    "    for epoch in range(epochs):\n",
    "        batch_i = 1\n",
    "        for batch_features, batch_labels in helper.load_preprocess_training_batch(batch_i, batch_size):\n",
    "            train_neural_network(sess, optimizer, keep_probability, batch_features, batch_labels)\n",
    "        print('Epoch {:>2}, CIFAR-10 Batch {}:  '.format(epoch + 1, batch_i), end='')\n",
    "        print_stats(sess, batch_features, batch_labels, cost, accuracy)"
   ]
  },
  {
   "cell_type": "markdown",
   "metadata": {},
   "source": [
    "### Fully Train the Model\n",
    "Now that you got a good accuracy with a single CIFAR-10 batch, try it with all five batches."
   ]
  },
  {
   "cell_type": "code",
   "execution_count": null,
   "metadata": {},
   "outputs": [
    {
     "name": "stdout",
     "output_type": "stream",
     "text": [
      "Training...\n",
      "Epoch  1, CIFAR-10 Batch 1:  Loss: 2.192096, Validation Accuracy: 0.230400\n",
      "Epoch  1, CIFAR-10 Batch 2:  Loss: 2.055052, Validation Accuracy: 0.289400\n",
      "Epoch  1, CIFAR-10 Batch 3:  Loss: 1.725568, Validation Accuracy: 0.288200\n",
      "Epoch  1, CIFAR-10 Batch 4:  Loss: 1.705793, Validation Accuracy: 0.353400\n",
      "Epoch  1, CIFAR-10 Batch 5:  Loss: 1.798978, Validation Accuracy: 0.393000\n",
      "Epoch  2, CIFAR-10 Batch 1:  Loss: 1.919685, Validation Accuracy: 0.400400\n",
      "Epoch  2, CIFAR-10 Batch 2:  Loss: 1.616639, Validation Accuracy: 0.441200\n",
      "Epoch  2, CIFAR-10 Batch 3:  Loss: 1.406644, Validation Accuracy: 0.431600\n",
      "Epoch  2, CIFAR-10 Batch 4:  Loss: 1.479400, Validation Accuracy: 0.446600\n",
      "Epoch  2, CIFAR-10 Batch 5:  Loss: 1.526171, Validation Accuracy: 0.460200\n",
      "Epoch  3, CIFAR-10 Batch 1:  Loss: 1.664602, Validation Accuracy: 0.468200\n",
      "Epoch  3, CIFAR-10 Batch 2:  Loss: 1.385281, Validation Accuracy: 0.462200\n",
      "Epoch  3, CIFAR-10 Batch 3:  Loss: 1.194367, Validation Accuracy: 0.481200\n",
      "Epoch  3, CIFAR-10 Batch 4:  Loss: 1.383474, Validation Accuracy: 0.469200\n",
      "Epoch  3, CIFAR-10 Batch 5:  Loss: 1.425011, Validation Accuracy: 0.490800\n",
      "Epoch  4, CIFAR-10 Batch 1:  Loss: 1.583837, Validation Accuracy: 0.495800\n",
      "Epoch  4, CIFAR-10 Batch 2:  Loss: 1.276009, Validation Accuracy: 0.499400\n",
      "Epoch  4, CIFAR-10 Batch 3:  Loss: 1.138463, Validation Accuracy: 0.492400\n",
      "Epoch  4, CIFAR-10 Batch 4:  Loss: 1.329513, Validation Accuracy: 0.513600\n",
      "Epoch  4, CIFAR-10 Batch 5:  Loss: 1.357123, Validation Accuracy: 0.519200\n",
      "Epoch  5, CIFAR-10 Batch 1:  Loss: 1.466080, Validation Accuracy: 0.527600\n",
      "Epoch  5, CIFAR-10 Batch 2:  Loss: 1.158739, Validation Accuracy: 0.503600\n",
      "Epoch  5, CIFAR-10 Batch 3:  Loss: 0.993977, Validation Accuracy: 0.525800\n",
      "Epoch  5, CIFAR-10 Batch 4:  Loss: 1.228996, Validation Accuracy: 0.524400\n",
      "Epoch  5, CIFAR-10 Batch 5:  Loss: 1.259468, Validation Accuracy: 0.536200\n",
      "Epoch  6, CIFAR-10 Batch 1:  Loss: 1.388420, Validation Accuracy: 0.539600\n",
      "Epoch  6, CIFAR-10 Batch 2:  Loss: 1.056604, Validation Accuracy: 0.537800\n",
      "Epoch  6, CIFAR-10 Batch 3:  Loss: 0.883316, Validation Accuracy: 0.535400\n",
      "Epoch  6, CIFAR-10 Batch 4:  Loss: 1.161300, Validation Accuracy: 0.543200\n",
      "Epoch  6, CIFAR-10 Batch 5:  Loss: 1.218247, Validation Accuracy: 0.546800\n",
      "Epoch  7, CIFAR-10 Batch 1:  Loss: 1.254308, Validation Accuracy: 0.550400\n",
      "Epoch  7, CIFAR-10 Batch 2:  Loss: 1.071239, Validation Accuracy: 0.546600\n",
      "Epoch  7, CIFAR-10 Batch 3:  Loss: 0.869642, Validation Accuracy: 0.560400\n",
      "Epoch  7, CIFAR-10 Batch 4:  Loss: 1.168418, Validation Accuracy: 0.539800\n",
      "Epoch  7, CIFAR-10 Batch 5:  Loss: 1.070974, Validation Accuracy: 0.569000\n",
      "Epoch  8, CIFAR-10 Batch 1:  Loss: 1.209660, Validation Accuracy: 0.568000\n",
      "Epoch  8, CIFAR-10 Batch 2:  Loss: 0.991393, Validation Accuracy: 0.560800\n",
      "Epoch  8, CIFAR-10 Batch 3:  Loss: 0.805015, Validation Accuracy: 0.573800\n",
      "Epoch  8, CIFAR-10 Batch 4:  Loss: 1.039341, Validation Accuracy: 0.577200\n",
      "Epoch  8, CIFAR-10 Batch 5:  Loss: 0.989353, Validation Accuracy: 0.580000\n",
      "Epoch  9, CIFAR-10 Batch 1:  Loss: 1.139532, Validation Accuracy: 0.578800\n",
      "Epoch  9, CIFAR-10 Batch 2:  Loss: 0.822621, Validation Accuracy: 0.579000\n",
      "Epoch  9, CIFAR-10 Batch 3:  Loss: 0.759044, Validation Accuracy: 0.584800\n",
      "Epoch  9, CIFAR-10 Batch 4:  Loss: 0.926831, Validation Accuracy: 0.594000\n",
      "Epoch  9, CIFAR-10 Batch 5:  Loss: 0.924870, Validation Accuracy: 0.589200\n",
      "Epoch 10, CIFAR-10 Batch 1:  Loss: 1.013088, Validation Accuracy: 0.589200\n",
      "Epoch 10, CIFAR-10 Batch 2:  Loss: 0.777094, Validation Accuracy: 0.584600\n",
      "Epoch 10, CIFAR-10 Batch 3:  Loss: 0.746871, Validation Accuracy: 0.588800\n",
      "Epoch 10, CIFAR-10 Batch 4:  Loss: 0.853124, Validation Accuracy: 0.597200\n",
      "Epoch 10, CIFAR-10 Batch 5:  Loss: 0.795115, Validation Accuracy: 0.592200\n",
      "Epoch 11, CIFAR-10 Batch 1:  Loss: 1.045420, Validation Accuracy: 0.582800\n",
      "Epoch 11, CIFAR-10 Batch 2:  Loss: 0.715946, Validation Accuracy: 0.605600\n",
      "Epoch 11, CIFAR-10 Batch 3:  Loss: 0.628587, Validation Accuracy: 0.602200\n",
      "Epoch 11, CIFAR-10 Batch 4:  Loss: 0.846048, Validation Accuracy: 0.603400\n",
      "Epoch 11, CIFAR-10 Batch 5:  Loss: 0.738150, Validation Accuracy: 0.610400\n",
      "Epoch 12, CIFAR-10 Batch 1:  Loss: 0.892897, Validation Accuracy: 0.607800\n",
      "Epoch 12, CIFAR-10 Batch 2:  Loss: 0.711351, Validation Accuracy: 0.593000\n",
      "Epoch 12, CIFAR-10 Batch 3:  Loss: 0.592233, Validation Accuracy: 0.604000\n",
      "Epoch 12, CIFAR-10 Batch 4:  Loss: 0.740369, Validation Accuracy: 0.605600\n",
      "Epoch 12, CIFAR-10 Batch 5:  Loss: 0.722233, Validation Accuracy: 0.603200\n",
      "Epoch 13, CIFAR-10 Batch 1:  Loss: 0.818312, Validation Accuracy: 0.613600\n",
      "Epoch 13, CIFAR-10 Batch 2:  Loss: 0.630484, Validation Accuracy: 0.614200\n",
      "Epoch 13, CIFAR-10 Batch 3:  Loss: 0.572892, Validation Accuracy: 0.611600\n",
      "Epoch 13, CIFAR-10 Batch 4:  Loss: 0.664033, Validation Accuracy: 0.616800\n",
      "Epoch 13, CIFAR-10 Batch 5:  Loss: 0.676191, Validation Accuracy: 0.615000\n",
      "Epoch 14, CIFAR-10 Batch 1:  Loss: 0.785267, Validation Accuracy: 0.623600\n",
      "Epoch 14, CIFAR-10 Batch 2:  Loss: 0.590411, Validation Accuracy: 0.626000\n",
      "Epoch 14, CIFAR-10 Batch 3:  Loss: 0.485016, Validation Accuracy: 0.611800\n",
      "Epoch 14, CIFAR-10 Batch 4:  Loss: 0.616456, Validation Accuracy: 0.611400\n",
      "Epoch 14, CIFAR-10 Batch 5:  Loss: 0.610896, Validation Accuracy: 0.627600\n",
      "Epoch 15, CIFAR-10 Batch 1:  Loss: 0.691243, Validation Accuracy: 0.628800\n",
      "Epoch 15, CIFAR-10 Batch 2:  Loss: 0.605495, Validation Accuracy: 0.625400\n",
      "Epoch 15, CIFAR-10 Batch 3:  Loss: 0.486627, Validation Accuracy: 0.607800\n",
      "Epoch 15, CIFAR-10 Batch 4:  Loss: 0.577681, Validation Accuracy: 0.624000\n",
      "Epoch 15, CIFAR-10 Batch 5:  Loss: 0.555405, Validation Accuracy: 0.619200\n",
      "Epoch 16, CIFAR-10 Batch 1:  Loss: 0.638107, Validation Accuracy: 0.623200\n",
      "Epoch 16, CIFAR-10 Batch 2:  Loss: 0.555746, Validation Accuracy: 0.625600\n",
      "Epoch 16, CIFAR-10 Batch 3:  Loss: 0.450924, Validation Accuracy: 0.615000\n",
      "Epoch 16, CIFAR-10 Batch 4:  Loss: 0.586422, Validation Accuracy: 0.625800\n",
      "Epoch 16, CIFAR-10 Batch 5:  Loss: 0.522097, Validation Accuracy: 0.626400\n",
      "Epoch 17, CIFAR-10 Batch 1:  Loss: 0.641895, Validation Accuracy: 0.631400\n",
      "Epoch 17, CIFAR-10 Batch 2:  Loss: 0.480616, Validation Accuracy: 0.622200\n",
      "Epoch 17, CIFAR-10 Batch 3:  Loss: 0.408450, Validation Accuracy: 0.617000\n",
      "Epoch 17, CIFAR-10 Batch 4:  Loss: 0.534353, Validation Accuracy: 0.627800\n",
      "Epoch 17, CIFAR-10 Batch 5:  Loss: 0.477475, Validation Accuracy: 0.631800\n",
      "Epoch 18, CIFAR-10 Batch 1:  Loss: 0.615440, Validation Accuracy: 0.627800\n",
      "Epoch 18, CIFAR-10 Batch 2:  Loss: 0.459162, Validation Accuracy: 0.633600\n",
      "Epoch 18, CIFAR-10 Batch 3:  Loss: 0.386259, Validation Accuracy: 0.627000\n",
      "Epoch 18, CIFAR-10 Batch 4:  Loss: 0.491177, Validation Accuracy: 0.625600\n",
      "Epoch 18, CIFAR-10 Batch 5:  Loss: 0.477186, Validation Accuracy: 0.643200\n",
      "Epoch 19, CIFAR-10 Batch 1:  Loss: 0.599777, Validation Accuracy: 0.619000\n",
      "Epoch 19, CIFAR-10 Batch 2:  Loss: 0.434028, Validation Accuracy: 0.624000\n",
      "Epoch 19, CIFAR-10 Batch 3:  Loss: 0.352994, Validation Accuracy: 0.634200\n",
      "Epoch 19, CIFAR-10 Batch 4:  Loss: 0.506157, Validation Accuracy: 0.621400\n",
      "Epoch 19, CIFAR-10 Batch 5:  Loss: 0.530275, Validation Accuracy: 0.630800\n",
      "Epoch 20, CIFAR-10 Batch 1:  Loss: 0.543850, Validation Accuracy: 0.621200\n",
      "Epoch 20, CIFAR-10 Batch 2:  Loss: 0.410337, Validation Accuracy: 0.636200\n",
      "Epoch 20, CIFAR-10 Batch 3:  Loss: 0.365456, Validation Accuracy: 0.637000\n",
      "Epoch 20, CIFAR-10 Batch 4:  Loss: 0.486530, Validation Accuracy: 0.622000\n",
      "Epoch 20, CIFAR-10 Batch 5:  Loss: 0.422722, Validation Accuracy: 0.641000\n",
      "Epoch 21, CIFAR-10 Batch 1:  Loss: 0.461848, Validation Accuracy: 0.614800\n",
      "Epoch 21, CIFAR-10 Batch 2:  Loss: 0.386140, Validation Accuracy: 0.622800\n",
      "Epoch 21, CIFAR-10 Batch 3:  Loss: 0.307679, Validation Accuracy: 0.631800\n",
      "Epoch 21, CIFAR-10 Batch 4:  Loss: 0.423455, Validation Accuracy: 0.631000\n",
      "Epoch 21, CIFAR-10 Batch 5:  Loss: 0.352921, Validation Accuracy: 0.641000\n",
      "Epoch 22, CIFAR-10 Batch 1:  Loss: 0.462361, Validation Accuracy: 0.621800\n",
      "Epoch 22, CIFAR-10 Batch 2:  Loss: 0.375568, Validation Accuracy: 0.617000\n",
      "Epoch 22, CIFAR-10 Batch 4:  Loss: 0.380111, Validation Accuracy: 0.633600\n",
      "Epoch 22, CIFAR-10 Batch 5:  Loss: 0.379221, Validation Accuracy: 0.634600\n",
      "Epoch 23, CIFAR-10 Batch 1:  Loss: 0.392006, Validation Accuracy: 0.619200\n",
      "Epoch 23, CIFAR-10 Batch 2:  Loss: 0.384875, Validation Accuracy: 0.629400\n",
      "Epoch 23, CIFAR-10 Batch 3:  Loss: 0.313414, Validation Accuracy: 0.628000\n",
      "Epoch 23, CIFAR-10 Batch 4:  Loss: 0.370428, Validation Accuracy: 0.642800\n",
      "Epoch 23, CIFAR-10 Batch 5:  Loss: 0.371263, Validation Accuracy: 0.645000\n",
      "Epoch 24, CIFAR-10 Batch 1:  Loss: 0.368901, Validation Accuracy: 0.629400\n",
      "Epoch 24, CIFAR-10 Batch 2:  Loss: 0.373793, Validation Accuracy: 0.632000\n",
      "Epoch 24, CIFAR-10 Batch 3:  Loss: 0.258652, Validation Accuracy: 0.627800\n",
      "Epoch 24, CIFAR-10 Batch 4:  Loss: 0.356492, Validation Accuracy: 0.634000\n",
      "Epoch 24, CIFAR-10 Batch 5:  Loss: 0.343679, Validation Accuracy: 0.638600\n",
      "Epoch 25, CIFAR-10 Batch 1:  Loss: 0.374982, Validation Accuracy: 0.613600\n",
      "Epoch 25, CIFAR-10 Batch 2:  Loss: 0.322262, Validation Accuracy: 0.619600\n",
      "Epoch 25, CIFAR-10 Batch 3:  Loss: 0.234424, Validation Accuracy: 0.628200\n",
      "Epoch 25, CIFAR-10 Batch 4:  Loss: 0.292452, Validation Accuracy: 0.633000\n",
      "Epoch 25, CIFAR-10 Batch 5:  Loss: 0.325867, Validation Accuracy: 0.644000\n",
      "Epoch 26, CIFAR-10 Batch 1:  Loss: 0.337289, Validation Accuracy: 0.622800\n",
      "Epoch 26, CIFAR-10 Batch 2:  Loss: 0.312024, Validation Accuracy: 0.629400\n",
      "Epoch 26, CIFAR-10 Batch 3:  Loss: 0.187776, Validation Accuracy: 0.634000\n",
      "Epoch 26, CIFAR-10 Batch 4:  Loss: 0.302493, Validation Accuracy: 0.636600\n",
      "Epoch 26, CIFAR-10 Batch 5:  Loss: 0.272474, Validation Accuracy: 0.635200\n",
      "Epoch 27, CIFAR-10 Batch 1:  Loss: 0.290596, Validation Accuracy: 0.624400\n",
      "Epoch 27, CIFAR-10 Batch 2:  Loss: 0.314383, Validation Accuracy: 0.622200\n",
      "Epoch 27, CIFAR-10 Batch 3:  Loss: 0.198581, Validation Accuracy: 0.625800\n",
      "Epoch 27, CIFAR-10 Batch 4:  Loss: 0.247678, Validation Accuracy: 0.635400\n",
      "Epoch 27, CIFAR-10 Batch 5:  Loss: 0.233419, Validation Accuracy: 0.644800\n",
      "Epoch 28, CIFAR-10 Batch 1:  Loss: 0.303307, Validation Accuracy: 0.625600\n",
      "Epoch 28, CIFAR-10 Batch 2:  Loss: 0.296430, Validation Accuracy: 0.617000\n",
      "Epoch 28, CIFAR-10 Batch 3:  Loss: 0.165750, Validation Accuracy: 0.627600\n",
      "Epoch 28, CIFAR-10 Batch 4:  Loss: 0.248952, Validation Accuracy: 0.638800\n",
      "Epoch 28, CIFAR-10 Batch 5:  Loss: 0.209134, Validation Accuracy: 0.633000\n",
      "Epoch 29, CIFAR-10 Batch 1:  Loss: 0.317841, Validation Accuracy: 0.624400\n",
      "Epoch 29, CIFAR-10 Batch 2:  Loss: 0.279537, Validation Accuracy: 0.612400\n",
      "Epoch 29, CIFAR-10 Batch 3:  Loss: 0.168211, Validation Accuracy: 0.637000\n",
      "Epoch 29, CIFAR-10 Batch 4:  Loss: 0.202323, Validation Accuracy: 0.633200\n",
      "Epoch 29, CIFAR-10 Batch 5:  Loss: 0.189941, Validation Accuracy: 0.642200\n",
      "Epoch 30, CIFAR-10 Batch 1:  Loss: 0.233223, Validation Accuracy: 0.628200\n",
      "Epoch 30, CIFAR-10 Batch 2:  Loss: 0.277848, Validation Accuracy: 0.629600\n",
      "Epoch 30, CIFAR-10 Batch 3:  Loss: 0.160042, Validation Accuracy: 0.632600\n",
      "Epoch 30, CIFAR-10 Batch 4:  Loss: 0.213152, Validation Accuracy: 0.632800\n",
      "Epoch 30, CIFAR-10 Batch 5:  Loss: 0.191169, Validation Accuracy: 0.631800\n",
      "Epoch 31, CIFAR-10 Batch 1:  Loss: 0.225507, Validation Accuracy: 0.631400\n",
      "Epoch 31, CIFAR-10 Batch 2:  Loss: 0.238152, Validation Accuracy: 0.628800\n",
      "Epoch 31, CIFAR-10 Batch 3:  Loss: 0.181005, Validation Accuracy: 0.621400\n",
      "Epoch 31, CIFAR-10 Batch 4:  Loss: 0.206631, Validation Accuracy: 0.627600\n",
      "Epoch 31, CIFAR-10 Batch 5:  Loss: 0.169122, Validation Accuracy: 0.636800\n",
      "Epoch 32, CIFAR-10 Batch 1:  Loss: 0.245372, Validation Accuracy: 0.628200\n",
      "Epoch 32, CIFAR-10 Batch 2:  Loss: 0.217496, Validation Accuracy: 0.625000\n",
      "Epoch 32, CIFAR-10 Batch 3:  Loss: 0.153231, Validation Accuracy: 0.623600\n",
      "Epoch 32, CIFAR-10 Batch 4:  Loss: 0.187994, Validation Accuracy: 0.632600\n",
      "Epoch 32, CIFAR-10 Batch 5:  Loss: 0.151248, Validation Accuracy: 0.636600\n",
      "Epoch 33, CIFAR-10 Batch 1:  Loss: 0.240280, Validation Accuracy: 0.626600\n",
      "Epoch 33, CIFAR-10 Batch 2:  Loss: 0.209449, Validation Accuracy: 0.632000\n",
      "Epoch 33, CIFAR-10 Batch 3:  Loss: 0.120105, Validation Accuracy: 0.629000\n",
      "Epoch 33, CIFAR-10 Batch 4:  Loss: 0.149635, Validation Accuracy: 0.641600\n",
      "Epoch 33, CIFAR-10 Batch 5:  Loss: 0.160826, Validation Accuracy: 0.624400\n",
      "Epoch 34, CIFAR-10 Batch 1:  Loss: 0.224430, Validation Accuracy: 0.635000\n",
      "Epoch 34, CIFAR-10 Batch 2:  Loss: 0.205625, Validation Accuracy: 0.627000\n",
      "Epoch 34, CIFAR-10 Batch 3:  Loss: 0.114069, Validation Accuracy: 0.633800\n",
      "Epoch 34, CIFAR-10 Batch 4:  Loss: 0.152236, Validation Accuracy: 0.628600\n",
      "Epoch 34, CIFAR-10 Batch 5:  Loss: 0.199045, Validation Accuracy: 0.618400\n",
      "Epoch 35, CIFAR-10 Batch 1:  Loss: 0.207429, Validation Accuracy: 0.628000\n",
      "Epoch 35, CIFAR-10 Batch 2:  Loss: 0.203414, Validation Accuracy: 0.618200\n",
      "Epoch 35, CIFAR-10 Batch 3:  Loss: 0.126895, Validation Accuracy: 0.623400\n",
      "Epoch 35, CIFAR-10 Batch 4:  Loss: 0.132866, Validation Accuracy: 0.636000\n",
      "Epoch 35, CIFAR-10 Batch 5:  Loss: 0.135784, Validation Accuracy: 0.619400\n",
      "Epoch 36, CIFAR-10 Batch 1:  Loss: 0.229632, Validation Accuracy: 0.623400\n",
      "Epoch 36, CIFAR-10 Batch 2:  Loss: 0.194173, Validation Accuracy: 0.622600\n",
      "Epoch 36, CIFAR-10 Batch 3:  Loss: 0.108636, Validation Accuracy: 0.619000\n",
      "Epoch 36, CIFAR-10 Batch 4:  Loss: 0.155232, Validation Accuracy: 0.632000\n",
      "Epoch 36, CIFAR-10 Batch 5:  Loss: 0.131574, Validation Accuracy: 0.620000\n",
      "Epoch 37, CIFAR-10 Batch 1:  Loss: 0.211612, Validation Accuracy: 0.625200\n",
      "Epoch 37, CIFAR-10 Batch 2:  Loss: 0.168673, Validation Accuracy: 0.619200\n",
      "Epoch 37, CIFAR-10 Batch 3:  Loss: 0.130452, Validation Accuracy: 0.626400\n",
      "Epoch 37, CIFAR-10 Batch 4:  Loss: 0.152429, Validation Accuracy: 0.630600\n",
      "Epoch 37, CIFAR-10 Batch 5:  Loss: 0.112397, Validation Accuracy: 0.631000\n",
      "Epoch 38, CIFAR-10 Batch 1:  Loss: 0.166482, Validation Accuracy: 0.619600\n",
      "Epoch 38, CIFAR-10 Batch 2:  Loss: 0.164432, Validation Accuracy: 0.614400\n",
      "Epoch 38, CIFAR-10 Batch 3:  Loss: 0.093253, Validation Accuracy: 0.624600\n",
      "Epoch 38, CIFAR-10 Batch 4:  Loss: 0.144457, Validation Accuracy: 0.627400\n",
      "Epoch 38, CIFAR-10 Batch 5:  Loss: 0.115041, Validation Accuracy: 0.626000\n",
      "Epoch 39, CIFAR-10 Batch 1:  Loss: 0.156902, Validation Accuracy: 0.628600\n",
      "Epoch 39, CIFAR-10 Batch 2:  Loss: 0.120599, Validation Accuracy: 0.620800\n",
      "Epoch 39, CIFAR-10 Batch 3:  Loss: 0.116417, Validation Accuracy: 0.612400\n",
      "Epoch 39, CIFAR-10 Batch 4:  Loss: 0.130703, Validation Accuracy: 0.628600\n",
      "Epoch 39, CIFAR-10 Batch 5:  Loss: 0.087964, Validation Accuracy: 0.626400\n",
      "Epoch 40, CIFAR-10 Batch 1:  Loss: 0.150897, Validation Accuracy: 0.616800\n",
      "Epoch 40, CIFAR-10 Batch 2:  Loss: 0.100358, Validation Accuracy: 0.620400\n",
      "Epoch 40, CIFAR-10 Batch 3:  Loss: 0.080668, Validation Accuracy: 0.621200\n",
      "Epoch 40, CIFAR-10 Batch 4:  Loss: 0.117419, Validation Accuracy: 0.623200\n",
      "Epoch 40, CIFAR-10 Batch 5:  Loss: 0.080072, Validation Accuracy: 0.618800\n",
      "Epoch 41, CIFAR-10 Batch 1:  Loss: 0.146073, Validation Accuracy: 0.614600\n",
      "Epoch 41, CIFAR-10 Batch 2:  Loss: 0.105199, Validation Accuracy: 0.620600\n",
      "Epoch 41, CIFAR-10 Batch 3:  Loss: 0.068804, Validation Accuracy: 0.618400\n",
      "Epoch 41, CIFAR-10 Batch 4:  Loss: 0.108330, Validation Accuracy: 0.617400\n",
      "Epoch 41, CIFAR-10 Batch 5:  Loss: 0.094481, Validation Accuracy: 0.617600\n",
      "Epoch 42, CIFAR-10 Batch 1:  Loss: 0.116568, Validation Accuracy: 0.628000\n",
      "Epoch 42, CIFAR-10 Batch 2:  Loss: 0.119759, Validation Accuracy: 0.619800\n",
      "Epoch 42, CIFAR-10 Batch 3:  Loss: 0.089335, Validation Accuracy: 0.611000\n",
      "Epoch 42, CIFAR-10 Batch 4:  Loss: 0.110621, Validation Accuracy: 0.623000\n",
      "Epoch 42, CIFAR-10 Batch 5:  Loss: 0.096404, Validation Accuracy: 0.621000\n",
      "Epoch 43, CIFAR-10 Batch 1:  Loss: 0.143245, Validation Accuracy: 0.622600\n",
      "Epoch 43, CIFAR-10 Batch 2:  Loss: 0.110652, Validation Accuracy: 0.618600\n",
      "Epoch 43, CIFAR-10 Batch 3:  Loss: 0.089664, Validation Accuracy: 0.614000\n",
      "Epoch 43, CIFAR-10 Batch 4:  Loss: 0.112715, Validation Accuracy: 0.624600\n",
      "Epoch 43, CIFAR-10 Batch 5:  Loss: 0.067385, Validation Accuracy: 0.621600\n",
      "Epoch 44, CIFAR-10 Batch 1:  Loss: 0.136279, Validation Accuracy: 0.629200\n",
      "Epoch 44, CIFAR-10 Batch 2:  Loss: 0.106540, Validation Accuracy: 0.613800\n",
      "Epoch 44, CIFAR-10 Batch 3:  Loss: 0.075553, Validation Accuracy: 0.616600\n",
      "Epoch 44, CIFAR-10 Batch 4:  Loss: 0.099506, Validation Accuracy: 0.619200\n"
     ]
    },
    {
     "name": "stdout",
     "output_type": "stream",
     "text": [
      "Epoch 44, CIFAR-10 Batch 5:  Loss: 0.047927, Validation Accuracy: 0.626600\n",
      "Epoch 45, CIFAR-10 Batch 1:  Loss: 0.134398, Validation Accuracy: 0.622800\n",
      "Epoch 45, CIFAR-10 Batch 2:  Loss: 0.105235, Validation Accuracy: 0.622400\n",
      "Epoch 45, CIFAR-10 Batch 3:  Loss: 0.055820, Validation Accuracy: 0.622000\n",
      "Epoch 45, CIFAR-10 Batch 4:  Loss: 0.094716, Validation Accuracy: 0.611400\n",
      "Epoch 45, CIFAR-10 Batch 5:  Loss: 0.057831, Validation Accuracy: 0.621600\n",
      "Epoch 46, CIFAR-10 Batch 1:  Loss: 0.105814, Validation Accuracy: 0.624000\n",
      "Epoch 46, CIFAR-10 Batch 2:  Loss: 0.087181, Validation Accuracy: 0.619800\n",
      "Epoch 46, CIFAR-10 Batch 3:  Loss: 0.049685, Validation Accuracy: 0.627800\n",
      "Epoch 46, CIFAR-10 Batch 4:  Loss: 0.093070, Validation Accuracy: 0.619600\n",
      "Epoch 46, CIFAR-10 Batch 5:  Loss: 0.053965, Validation Accuracy: 0.624000\n",
      "Epoch 47, CIFAR-10 Batch 1:  Loss: 0.100199, Validation Accuracy: 0.628000\n",
      "Epoch 47, CIFAR-10 Batch 2:  Loss: 0.103087, Validation Accuracy: 0.621800\n",
      "Epoch 47, CIFAR-10 Batch 3:  Loss: 0.069207, Validation Accuracy: 0.616800\n",
      "Epoch 47, CIFAR-10 Batch 4:  Loss: 0.085681, Validation Accuracy: 0.608600\n",
      "Epoch 47, CIFAR-10 Batch 5:  Loss: 0.059327, Validation Accuracy: 0.625600\n",
      "Epoch 48, CIFAR-10 Batch 1:  Loss: 0.094367, Validation Accuracy: 0.621600\n",
      "Epoch 48, CIFAR-10 Batch 2:  Loss: 0.078802, Validation Accuracy: 0.623400\n",
      "Epoch 48, CIFAR-10 Batch 3:  Loss: 0.065550, Validation Accuracy: 0.629600\n",
      "Epoch 48, CIFAR-10 Batch 4:  Loss: 0.074709, Validation Accuracy: 0.618600\n",
      "Epoch 48, CIFAR-10 Batch 5:  Loss: 0.057169, Validation Accuracy: 0.619400\n",
      "Epoch 49, CIFAR-10 Batch 1:  Loss: 0.096615, Validation Accuracy: 0.627000\n",
      "Epoch 49, CIFAR-10 Batch 2:  Loss: 0.069588, Validation Accuracy: 0.616800\n",
      "Epoch 49, CIFAR-10 Batch 3:  Loss: 0.062305, Validation Accuracy: 0.626400\n",
      "Epoch 49, CIFAR-10 Batch 4:  Loss: 0.090937, Validation Accuracy: 0.611200\n",
      "Epoch 49, CIFAR-10 Batch 5:  Loss: 0.055101, Validation Accuracy: 0.630400\n",
      "Epoch 50, CIFAR-10 Batch 1:  Loss: 0.080971, Validation Accuracy: 0.632400\n",
      "Epoch 50, CIFAR-10 Batch 2:  Loss: 0.063567, Validation Accuracy: 0.617200\n",
      "Epoch 50, CIFAR-10 Batch 3:  Loss: 0.078097, Validation Accuracy: 0.620800\n",
      "Epoch 50, CIFAR-10 Batch 4:  Loss: 0.089313, Validation Accuracy: 0.607600\n",
      "Epoch 50, CIFAR-10 Batch 5:  Loss: 0.042141, Validation Accuracy: 0.622400\n"
     ]
    }
   ],
   "source": [
    "\"\"\"\n",
    "DON'T MODIFY ANYTHING IN THIS CELL\n",
    "\"\"\"\n",
    "save_model_path = './image_classification'\n",
    "\n",
    "print('Training...')\n",
    "with tf.Session() as sess:\n",
    "    # Initializing the variables\n",
    "    sess.run(tf.global_variables_initializer())\n",
    "    \n",
    "    # Training cycle\n",
    "    for epoch in range(epochs):\n",
    "        # Loop over all batches\n",
    "        n_batches = 5\n",
    "        for batch_i in range(1, n_batches + 1):\n",
    "            for batch_features, batch_labels in helper.load_preprocess_training_batch(batch_i, batch_size):\n",
    "                train_neural_network(sess, optimizer, keep_probability, batch_features, batch_labels)\n",
    "            print('Epoch {:>2}, CIFAR-10 Batch {}:  '.format(epoch + 1, batch_i), end='')\n",
    "            print_stats(sess, batch_features, batch_labels, cost, accuracy)\n",
    "            \n",
    "    # Save Model\n",
    "    saver = tf.train.Saver()\n",
    "    save_path = saver.save(sess, save_model_path)"
   ]
  },
  {
   "cell_type": "markdown",
   "metadata": {},
   "source": [
    "# Checkpoint\n",
    "The model has been saved to disk.\n",
    "## Test Model\n",
    "Test your model against the test dataset.  This will be your final accuracy. You should have an accuracy greater than 50%. If you don't, keep tweaking the model architecture and parameters."
   ]
  },
  {
   "cell_type": "code",
   "execution_count": 87,
   "metadata": {},
   "outputs": [
    {
     "name": "stdout",
     "output_type": "stream",
     "text": [
      "INFO:tensorflow:Restoring parameters from ./image_classification\n",
      "Testing Accuracy: 0.6171875\n",
      "\n"
     ]
    },
    {
     "data": {
      "image/png": "[encoded data removed]",
      "text/plain": [
       "<matplotlib.figure.Figure at 0x7fc1db1f0358>"
      ]
     },
     "metadata": {
      "image/png": {
       "height": 319,
       "width": 355
      }
     },
     "output_type": "display_data"
    }
   ],
   "source": [
    "\"\"\"\n",
    "DON'T MODIFY ANYTHING IN THIS CELL\n",
    "\"\"\"\n",
    "%matplotlib inline\n",
    "%config InlineBackend.figure_format = 'retina'\n",
    "\n",
    "import tensorflow as tf\n",
    "import pickle\n",
    "import helper\n",
    "import random\n",
    "\n",
    "# Set batch size if not already set\n",
    "try:\n",
    "    if batch_size:\n",
    "        pass\n",
    "except NameError:\n",
    "    batch_size = 64\n",
    "\n",
    "save_model_path = './image_classification'\n",
    "n_samples = 4\n",
    "top_n_predictions = 3\n",
    "\n",
    "def test_model():\n",
    "    \"\"\"\n",
    "    Test the saved model against the test dataset\n",
    "    \"\"\"\n",
    "\n",
    "    test_features, test_labels = pickle.load(open('preprocess_training.p', mode='rb'))\n",
    "    loaded_graph = tf.Graph()\n",
    "\n",
    "    with tf.Session(graph=loaded_graph) as sess:\n",
    "        # Load model\n",
    "        loader = tf.train.import_meta_graph(save_model_path + '.meta')\n",
    "        loader.restore(sess, save_model_path)\n",
    "\n",
    "        # Get Tensors from loaded model\n",
    "        loaded_x = loaded_graph.get_tensor_by_name('x:0')\n",
    "        loaded_y = loaded_graph.get_tensor_by_name('y:0')\n",
    "        loaded_keep_prob = loaded_graph.get_tensor_by_name('keep_prob:0')\n",
    "        loaded_logits = loaded_graph.get_tensor_by_name('logits:0')\n",
    "        loaded_acc = loaded_graph.get_tensor_by_name('accuracy:0')\n",
    "        \n",
    "        # Get accuracy in batches for memory limitations\n",
    "        test_batch_acc_total = 0\n",
    "        test_batch_count = 0\n",
    "        \n",
    "        for train_feature_batch, train_label_batch in helper.batch_features_labels(test_features, test_labels, batch_size):\n",
    "            test_batch_acc_total += sess.run(\n",
    "                loaded_acc,\n",
    "                feed_dict={loaded_x: train_feature_batch, loaded_y: train_label_batch, loaded_keep_prob: 1.0})\n",
    "            test_batch_count += 1\n",
    "\n",
    "        print('Testing Accuracy: {}\\n'.format(test_batch_acc_total/test_batch_count))\n",
    "\n",
    "        # Print Random Samples\n",
    "        random_test_features, random_test_labels = tuple(zip(*random.sample(list(zip(test_features, test_labels)), n_samples)))\n",
    "        random_test_predictions = sess.run(\n",
    "            tf.nn.top_k(tf.nn.softmax(loaded_logits), top_n_predictions),\n",
    "            feed_dict={loaded_x: random_test_features, loaded_y: random_test_labels, loaded_keep_prob: 1.0})\n",
    "        helper.display_image_predictions(random_test_features, random_test_labels, random_test_predictions)\n",
    "\n",
    "\n",
    "test_model()"
   ]
  },
  {
   "cell_type": "markdown",
   "metadata": {},
   "source": [
    "## Why 50-70% Accuracy?\n",
    "You might be wondering why you can't get an accuracy any higher. First things first, 50% isn't bad for a simple CNN.  Pure guessing would get you 10% accuracy. However, you might notice people are getting scores [well above 70%](http://rodrigob.github.io/are_we_there_yet/build/classification_datasets_results.html#43494641522d3130).  That's because we haven't taught you all there is to know about neural networks. We still need to cover a few more techniques.\n",
    "## Submitting This Project\n",
    "When submitting this project, make sure to run all the cells before saving the notebook.  Save the notebook file as \"dlnd_image_classification.ipynb\" and save it as a HTML file under \"File\" -> \"Download as\".  Include the \"helper.py\" and \"problem_unittests.py\" files in your submission."
   ]
  }
 ],
 "metadata": {
  "kernelspec": {
   "display_name": "Python 3",
   "language": "python",
   "name": "python3"
  },
  "language_info": {
   "codemirror_mode": {
    "name": "ipython",
    "version": 3
   },
   "file_extension": ".py",
   "mimetype": "text/x-python",
   "name": "python",
   "nbconvert_exporter": "python",
   "pygments_lexer": "ipython3",
   "version": "3.5.3"
  }
 },
 "nbformat": 4,
 "nbformat_minor": 1
}
